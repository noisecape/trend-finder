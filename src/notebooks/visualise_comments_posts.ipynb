{
 "cells": [
  {
   "cell_type": "code",
   "execution_count": 7,
   "metadata": {},
   "outputs": [],
   "source": [
    "import pickle\n",
    "import src.data\n",
    "import os"
   ]
  },
  {
   "cell_type": "code",
   "execution_count": 8,
   "metadata": {},
   "outputs": [
    {
     "data": {
      "text/plain": [
       "'c:\\\\Users\\\\tommy\\\\Developer\\\\trend-finder\\\\src\\\\notebooks'"
      ]
     },
     "execution_count": 8,
     "metadata": {},
     "output_type": "execute_result"
    }
   ],
   "source": [
    "os.getcwd()"
   ]
  },
  {
   "cell_type": "code",
   "execution_count": 14,
   "metadata": {},
   "outputs": [],
   "source": [
    "with open('../data/validated_comments.pkl', 'rb') as f:\n",
    "    comments = pickle.load(f)\n",
    "\n",
    "with open('../data/validated_posts.pkl', 'rb') as f:\n",
    "    posts = pickle.load(f)"
   ]
  },
  {
   "cell_type": "code",
   "execution_count": 16,
   "metadata": {},
   "outputs": [
    {
     "data": {
      "text/plain": [
       "169"
      ]
     },
     "execution_count": 16,
     "metadata": {},
     "output_type": "execute_result"
    }
   ],
   "source": [
    "len(posts)"
   ]
  },
  {
   "cell_type": "code",
   "execution_count": 28,
   "metadata": {},
   "outputs": [
    {
     "data": {
      "text/plain": [
       "RedditComment(subreddit_id='t5_m0bnr', approved_at_utc=None, author_is_blocked=False, comment_type=None, awarders=[], mod_reason_by=None, banned_by=None, author_flair_type='text', total_awards_received=0, subreddit='nextfuckinglevel', author_flair_template_id=None, likes=None, replies=RedditReplies(kind='Listing', data={'after': None, 'dist': None, 'modhash': '', 'geo_filter': '', 'children': [{'kind': 't1', 'data': {'subreddit_id': 't5_m0bnr', 'approved_at_utc': None, 'author_is_blocked': False, 'comment_type': None, 'awarders': [], 'mod_reason_by': None, 'banned_by': None, 'author_flair_type': 'text', 'total_awards_received': 0, 'subreddit': 'nextfuckinglevel', 'author_flair_template_id': None, 'likes': None, 'replies': {'kind': 'Listing', 'data': {'after': None, 'dist': None, 'modhash': '', 'geo_filter': '', 'children': [{'kind': 't1', 'data': {'subreddit_id': 't5_m0bnr', 'approved_at_utc': None, 'author_is_blocked': False, 'comment_type': None, 'awarders': [], 'mod_reason_by': None, 'banned_by': None, 'author_flair_type': 'text', 'total_awards_received': 0, 'subreddit': 'nextfuckinglevel', 'author_flair_template_id': None, 'likes': None, 'replies': '', 'user_reports': [], 'saved': False, 'id': 'mbw29nh', 'banned_at_utc': None, 'mod_reason_title': None, 'gilded': 0, 'archived': False, 'collapsed_reason_code': None, 'no_follow': False, 'author': 'turboprop54', 'can_mod_post': False, 'send_replies': True, 'parent_id': 't1_mbw1thp', 'score': 9, 'author_fullname': 't2_8wx7gu0a', 'removal_reason': None, 'approved_by': None, 'mod_note': None, 'all_awardings': [], 'collapsed': False, 'body': 'The “ball” used is a different shape, for starters. And some rules are different as well.\\n\\nBall shape\\n\\nBocce: The balls are perfectly spherical. \\nBowls: The balls are round in one direction and elliptical in the other, causing them to curve. \\n\\nThrowing motion \\n\\nBocce: The balls are thrown underhand, like a softball.\\nBowls: The balls are rolled, similar to bowling.\\n\\nCourt surface \\n\\nBocce: The courts are often made of sand or gravel, but can also be grass.\\nBowls: The rinks are usually made of fine, thin grass.\\n\\nGoal\\n\\nBocce: Players throw their balls towards a small target ball called the pallino. If the pallino is knocked out of bounds, play resets from the other end of the court with no points or penalty awarded.\\nBowls: Players roll their balls towards a stationary ball called the jack. If the jack ball is knocked out of bounds, the bowler responsible is penalized.', 'edited': 1739130734.0, 'top_awarded_type': None, 'author_flair_css_class': None, 'name': 't1_mbw29nh', 'is_submitter': False, 'downs': 0, 'author_flair_richtext': [], 'author_patreon_flair': False, 'body_html': '&lt;div class=\"md\"&gt;&lt;p&gt;The “ball” used is a different shape, for starters. And some rules are different as well.&lt;/p&gt;\\n\\n&lt;p&gt;Ball shape&lt;/p&gt;\\n\\n&lt;p&gt;Bocce: The balls are perfectly spherical. \\nBowls: The balls are round in one direction and elliptical in the other, causing them to curve. &lt;/p&gt;\\n\\n&lt;p&gt;Throwing motion &lt;/p&gt;\\n\\n&lt;p&gt;Bocce: The balls are thrown underhand, like a softball.\\nBowls: The balls are rolled, similar to bowling.&lt;/p&gt;\\n\\n&lt;p&gt;Court surface &lt;/p&gt;\\n\\n&lt;p&gt;Bocce: The courts are often made of sand or gravel, but can also be grass.\\nBowls: The rinks are usually made of fine, thin grass.&lt;/p&gt;\\n\\n&lt;p&gt;Goal&lt;/p&gt;\\n\\n&lt;p&gt;Bocce: Players throw their balls towards a small target ball called the pallino. If the pallino is knocked out of bounds, play resets from the other end of the court with no points or penalty awarded.\\nBowls: Players roll their balls towards a stationary ball called the jack. If the jack ball is knocked out of bounds, the bowler responsible is penalized.&lt;/p&gt;\\n&lt;/div&gt;', 'gildings': {}, 'collapsed_reason': None, 'distinguished': None, 'associated_award': None, 'stickied': False, 'author_premium': False, 'can_gild': False, 'link_id': 't3_1ilmn8d', 'unrepliable_reason': None, 'author_flair_text_color': None, 'score_hidden': False, 'permalink': '/r/nextfuckinglevel/comments/1ilmn8d/impressive_bowling_skills/mbw29nh/', 'subreddit_type': 'public', 'locked': False, 'report_reasons': None, 'created': 1739130121.0, 'author_flair_text': None, 'treatment_tags': [], 'created_utc': 1739130121.0, 'subreddit_name_prefixed': 'r/nextfuckinglevel', 'controversiality': 0, 'depth': 3, 'author_flair_background_color': None, 'collapsed_because_crowd_control': None, 'mod_reports': [], 'num_reports': None, 'ups': 9}}, {'kind': 't1', 'data': {'subreddit_id': 't5_m0bnr', 'approved_at_utc': None, 'author_is_blocked': False, 'comment_type': None, 'awarders': [], 'mod_reason_by': None, 'banned_by': None, 'author_flair_type': 'text', 'total_awards_received': 0, 'subreddit': 'nextfuckinglevel', 'author_flair_template_id': None, 'likes': None, 'replies': '', 'user_reports': [], 'saved': False, 'id': 'mbw2csk', 'banned_at_utc': None, 'mod_reason_title': None, 'gilded': 0, 'archived': False, 'collapsed_reason_code': None, 'no_follow': False, 'author': 'CallMeMrPeaches', 'can_mod_post': False, 'send_replies': True, 'parent_id': 't1_mbw1thp', 'score': -1, 'author_fullname': 't2_d7z61', 'removal_reason': None, 'approved_by': None, 'mod_note': None, 'all_awardings': [], 'collapsed': False, 'body': '[lmgtfy](https://www.google.com/search?q=bowls+vs+bocce&amp;client=ms-android-att-us-rvc3&amp;sca_esv=c3edd36493bca03c&amp;ei=0gOpZ9SHMbX8ptQPxrKKoAQ&amp;oq=bowls+&amp;gs_lp=EhNtb2JpbGUtZ3dzLXdpei1zZXJwIgZib3dscyAqAggBMgoQABiABBhDGIoFMgoQABiABBhDGIoFMgoQABiABBhDGIoFMhAQABiABBixAxhDGIMBGIoFMggQABiABBixAzIFEAAYgAQyBRAAGIAEMgUQABiABEjrP1D4BljEOHAIeAGQAQOYAYADoAHfFKoBCDYuMTEuMS4xuAEByAEA-AEBmAIRoAKjCqgCEMICChAAGLADGNYEGEfCAg0QABiABBiwAxhDGIoFwgITEC4YgAQYsAMY0QMYQxjHARiKBcICAhApwgILEAAYgAQYsQMYgwHCAgoQABgDGOoCGI8BwgIKEC4YAxjqAhiPAcICCxAAGIAEGJECGIoFwgILEC4YgAQYkQIYigXCAgsQLhiABBixAxiDAcICCBAuGIAEGLEDwgIUEC4YgAQYkQIYxwEYigUYjgUYrwHCAg4QLhiABBiRAhixAxiKBcICBRAuGIAEwgILEC4YgAQYsQMY1ALCAhMQLhiABBixAxjRAxhDGMcBGIoFwgIIEAAYgAQYkgPCAgsQABiABBiSAxiKBcICExAAGIAEGLEDGEMYgwEYyQMYigXCAhAQLhiABBhDGMcBGIoFGK8BwgINEAAYgAQYsQMYQxiKBcICCxAuGIAEGMcBGK8BwgIGEAAYFhgemAMS8QUkZ8t0Tw8cJ4gGAZAGEZIHBTguOC4xoAfwiQE&amp;sclient=mobile-gws-wiz-serp)', 'edited': False, 'top_awarded_type': None, 'author_flair_css_class': None, 'name': 't1_mbw2csk', 'is_submitter': False, 'downs': 0, 'author_flair_richtext': [], 'author_patreon_flair': False, 'body_html': '&lt;div class=\"md\"&gt;&lt;p&gt;&lt;a href=\"https://www.google.com/search?q=bowls+vs+bocce&amp;amp;client=ms-android-att-us-rvc3&amp;amp;sca_esv=c3edd36493bca03c&amp;amp;ei=0gOpZ9SHMbX8ptQPxrKKoAQ&amp;amp;oq=bowls+&amp;amp;gs_lp=EhNtb2JpbGUtZ3dzLXdpei1zZXJwIgZib3dscyAqAggBMgoQABiABBhDGIoFMgoQABiABBhDGIoFMgoQABiABBhDGIoFMhAQABiABBixAxhDGIMBGIoFMggQABiABBixAzIFEAAYgAQyBRAAGIAEMgUQABiABEjrP1D4BljEOHAIeAGQAQOYAYADoAHfFKoBCDYuMTEuMS4xuAEByAEA-AEBmAIRoAKjCqgCEMICChAAGLADGNYEGEfCAg0QABiABBiwAxhDGIoFwgITEC4YgAQYsAMY0QMYQxjHARiKBcICAhApwgILEAAYgAQYsQMYgwHCAgoQABgDGOoCGI8BwgIKEC4YAxjqAhiPAcICCxAAGIAEGJECGIoFwgILEC4YgAQYkQIYigXCAgsQLhiABBixAxiDAcICCBAuGIAEGLEDwgIUEC4YgAQYkQIYxwEYigUYjgUYrwHCAg4QLhiABBiRAhixAxiKBcICBRAuGIAEwgILEC4YgAQYsQMY1ALCAhMQLhiABBixAxjRAxhDGMcBGIoFwgIIEAAYgAQYkgPCAgsQABiABBiSAxiKBcICExAAGIAEGLEDGEMYgwEYyQMYigXCAhAQLhiABBhDGMcBGIoFGK8BwgINEAAYgAQYsQMYQxiKBcICCxAuGIAEGMcBGK8BwgIGEAAYFhgemAMS8QUkZ8t0Tw8cJ4gGAZAGEZIHBTguOC4xoAfwiQE&amp;amp;sclient=mobile-gws-wiz-serp\"&gt;lmgtfy&lt;/a&gt;&lt;/p&gt;\\n&lt;/div&gt;', 'gildings': {}, 'collapsed_reason': None, 'distinguished': None, 'associated_award': None, 'stickied': False, 'author_premium': False, 'can_gild': False, 'link_id': 't3_1ilmn8d', 'unrepliable_reason': None, 'author_flair_text_color': None, 'score_hidden': False, 'permalink': '/r/nextfuckinglevel/comments/1ilmn8d/impressive_bowling_skills/mbw2csk/', 'subreddit_type': 'public', 'locked': False, 'report_reasons': None, 'created': 1739130146.0, 'author_flair_text': None, 'treatment_tags': [], 'created_utc': 1739130146.0, 'subreddit_name_prefixed': 'r/nextfuckinglevel', 'controversiality': 0, 'depth': 3, 'author_flair_background_color': None, 'collapsed_because_crowd_control': None, 'mod_reports': [], 'num_reports': None, 'ups': -1}}], 'before': None}}, 'user_reports': [], 'saved': False, 'id': 'mbw1thp', 'banned_at_utc': None, 'mod_reason_title': None, 'gilded': 0, 'archived': False, 'collapsed_reason_code': None, 'no_follow': False, 'author': 'Jkayakj', 'can_mod_post': False, 'send_replies': True, 'parent_id': 't1_mbw1490', 'score': 6, 'author_fullname': 't2_zfp90', 'removal_reason': None, 'approved_by': None, 'mod_note': None, 'all_awardings': [], 'body': 'How is this not bocce?\\nEdit. Apparently the balls are not round like bocce, you throw the ball differently, and the court is slightly different', 'edited': False, 'top_awarded_type': None, 'downs': 0, 'author_flair_css_class': None, 'name': 't1_mbw1thp', 'is_submitter': False, 'collapsed': False, 'author_flair_richtext': [], 'author_patreon_flair': False, 'body_html': '&lt;div class=\"md\"&gt;&lt;p&gt;How is this not bocce?\\nEdit. Apparently the balls are not round like bocce, you throw the ball differently, and the court is slightly different&lt;/p&gt;\\n&lt;/div&gt;', 'gildings': {}, 'collapsed_reason': None, 'distinguished': None, 'associated_award': None, 'stickied': False, 'author_premium': True, 'can_gild': False, 'link_id': 't3_1ilmn8d', 'unrepliable_reason': None, 'author_flair_text_color': None, 'score_hidden': False, 'permalink': '/r/nextfuckinglevel/comments/1ilmn8d/impressive_bowling_skills/mbw1thp/', 'subreddit_type': 'public', 'locked': False, 'report_reasons': None, 'created': 1739129996.0, 'author_flair_text': None, 'treatment_tags': [], 'created_utc': 1739129996.0, 'subreddit_name_prefixed': 'r/nextfuckinglevel', 'controversiality': 0, 'depth': 2, 'author_flair_background_color': None, 'collapsed_because_crowd_control': None, 'mod_reports': [], 'num_reports': None, 'ups': 6}}], 'before': None}), user_reports=[], saved=False, id='mbw1490', banned_at_utc=None, mod_reason_title=None, gilded=0, archived=False, collapsed_reason_code=None, no_follow=False, author='CallMeMrPeaches', can_mod_post=False, created_utc=1739129800.0, send_replies=True, parent_id='t1_mbw0ku3', score=24, author_fullname='t2_d7z61', approved_by=None, mod_note=None, all_awardings=[], collapsed=False, body='1. bocce\\n\\n2. sort of but not really', edited=False, top_awarded_type=None, author_flair_css_class=None, name='t1_mbw1490', is_submitter=False, downs=0, author_flair_richtext=[], author_patreon_flair=False, body_html='&lt;div class=\"md\"&gt;&lt;ol&gt;\\n&lt;li&gt;&lt;p&gt;bocce&lt;/p&gt;&lt;/li&gt;\\n&lt;li&gt;&lt;p&gt;sort of but not really&lt;/p&gt;&lt;/li&gt;\\n&lt;/ol&gt;\\n&lt;/div&gt;', removal_reason=None, collapsed_reason=None, distinguished=None, associated_award=None, stickied=False, author_premium=False, can_gild=False, gildings={}, unrepliable_reason=None, author_flair_text_color=None, score_hidden=False, permalink='/r/nextfuckinglevel/comments/1ilmn8d/impressive_bowling_skills/mbw1490/', subreddit_type='public', locked=False, report_reasons=None, created=1739129800.0, author_flair_text=None, treatment_tags=[], link_id='t3_1ilmn8d', subreddit_name_prefixed='r/nextfuckinglevel', controversiality=0, depth=1, author_flair_background_color=None, collapsed_because_crowd_control=None, mod_reports=[], num_reports=None, ups=24)"
      ]
     },
     "execution_count": 28,
     "metadata": {},
     "output_type": "execute_result"
    }
   ],
   "source": [
    "comments[0][1].replies.process_replies()[0]"
   ]
  },
  {
   "cell_type": "code",
   "execution_count": null,
   "metadata": {},
   "outputs": [],
   "source": []
  }
 ],
 "metadata": {
  "kernelspec": {
   "display_name": "crawl4ai",
   "language": "python",
   "name": "python3"
  },
  "language_info": {
   "codemirror_mode": {
    "name": "ipython",
    "version": 3
   },
   "file_extension": ".py",
   "mimetype": "text/x-python",
   "name": "python",
   "nbconvert_exporter": "python",
   "pygments_lexer": "ipython3",
   "version": "3.12.4"
  }
 },
 "nbformat": 4,
 "nbformat_minor": 2
}
