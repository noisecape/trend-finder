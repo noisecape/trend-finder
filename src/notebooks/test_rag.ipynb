{
 "cells": [
  {
   "cell_type": "code",
   "execution_count": null,
   "metadata": {},
   "outputs": [],
   "source": [
    "import pandas as pd\n",
    "import sys\n",
    "import os\n",
    "from src.utilities.dataframe import merge_dataframes\n",
    "import numpy as np\n",
    "import ast\n",
    "from transformers import pipeline\n",
    "import torch"
   ]
  },
  {
   "cell_type": "code",
   "execution_count": 8,
   "metadata": {},
   "outputs": [],
   "source": [
    "model_id = 'meta-llama/Llama-3.2-3B-Instruct'"
   ]
  },
  {
   "cell_type": "code",
   "execution_count": 9,
   "metadata": {},
   "outputs": [
    {
     "data": {
      "application/vnd.jupyter.widget-view+json": {
       "model_id": "51ea7996f4a24693a2f33270c897de19",
       "version_major": 2,
       "version_minor": 0
      },
      "text/plain": [
       "Loading checkpoint shards:   0%|          | 0/2 [00:00<?, ?it/s]"
      ]
     },
     "metadata": {},
     "output_type": "display_data"
    },
    {
     "name": "stderr",
     "output_type": "stream",
     "text": [
      "Device set to use cuda:0\n"
     ]
    }
   ],
   "source": [
    "feature_extraction = pipeline(\n",
    "        \"feature-extraction\",\n",
    "        model=model_id,\n",
    "        torch_dtype=torch.bfloat16,\n",
    "        device_map=\"auto\",\n",
    "    )"
   ]
  },
  {
   "cell_type": "code",
   "execution_count": 3,
   "metadata": {},
   "outputs": [],
   "source": [
    "df = pd.read_csv(\"../data/df_processed_all_v2.csv\")"
   ]
  },
  {
   "cell_type": "code",
   "execution_count": 20,
   "metadata": {},
   "outputs": [],
   "source": [
    "db_vectors = df['llama3.2_3B_embs'].apply(lambda x: ast.literal_eval(x))\n",
    "\n",
    "# Convert lists to NumPy array\n",
    "db_embs = np.array(db_vectors.tolist())"
   ]
  },
  {
   "cell_type": "code",
   "execution_count": 69,
   "metadata": {},
   "outputs": [
    {
     "data": {
      "text/plain": [
       "np.int64(1)"
      ]
     },
     "execution_count": 69,
     "metadata": {},
     "output_type": "execute_result"
    }
   ],
   "source": [
    "df.ranking.min()"
   ]
  },
  {
   "cell_type": "code",
   "execution_count": 70,
   "metadata": {},
   "outputs": [
    {
     "data": {
      "text/plain": [
       "description            Erdvė skirta diskutuoti, mokytis, tyrinėti bei...\n",
       "subredditName                                                  santykiai\n",
       "subscribers                                                           63\n",
       "createdDate                                          03th November, 2023\n",
       "ranking                                                           277722\n",
       "growthDay                                                              -\n",
       "growthWeek                                                        + 5.0%\n",
       "growthMonth                                                    + 6200.0%\n",
       "growthAbsoluteDay                                                      -\n",
       "growthAbsoluteWeek                                       + 3 Subscribers\n",
       "growthAbsoluteMonth                                     + 62 Subscribers\n",
       "subreddit_link                            https://reddit.com/r/santykiai\n",
       "prompt                 ['<|start|>Information about subreddit:\\n     ...\n",
       "embs                   [-0.001260998, -0.019029537, -0.052608207, -0....\n",
       "prompt_processed       <|start|>Information about subreddit: <|short ...\n",
       "llama3.2_3B_embs       [-1.9609375, -2.53125, -4.75, -1.3984375, 1.63...\n",
       "Name: 1, dtype: object"
      ]
     },
     "execution_count": 70,
     "metadata": {},
     "output_type": "execute_result"
    }
   ],
   "source": [
    "df.loc[df['ranking'].min()]"
   ]
  },
  {
   "cell_type": "code",
   "execution_count": 59,
   "metadata": {},
   "outputs": [],
   "source": [
    "my_query = \"Subreddit that grew the most monthly in absolute terms\"\n",
    "my_query_embs = np.array(feature_extraction(my_query)[0][-1]).reshape(1, -1)"
   ]
  },
  {
   "cell_type": "code",
   "execution_count": 60,
   "metadata": {},
   "outputs": [
    {
     "data": {
      "text/plain": [
       "((12703, 3072), (1, 3072))"
      ]
     },
     "execution_count": 60,
     "metadata": {},
     "output_type": "execute_result"
    }
   ],
   "source": [
    "db_embs.shape, my_query_embs.shape"
   ]
  },
  {
   "cell_type": "code",
   "execution_count": 61,
   "metadata": {},
   "outputs": [],
   "source": [
    "# Compute cosine similarity\n",
    "cos_sim = np.dot(my_query_embs, db_embs.T) / (np.linalg.norm(my_query_embs, axis=1) * np.linalg.norm(db_embs))"
   ]
  },
  {
   "cell_type": "code",
   "execution_count": 62,
   "metadata": {},
   "outputs": [
    {
     "name": "stdout",
     "output_type": "stream",
     "text": [
      "Most similar vectors: [9527  379 9591 8038 9956]\n"
     ]
    }
   ],
   "source": [
    "# Get top-k most similar vectors\n",
    "top_k = 5\n",
    "top_k_indices = np.argsort(-cos_sim.flatten())[:top_k]\n",
    "print(\"Most similar vectors:\", top_k_indices)"
   ]
  },
  {
   "cell_type": "code",
   "execution_count": 63,
   "metadata": {},
   "outputs": [
    {
     "data": {
      "text/plain": [
       "'-9340 Subscribers'"
      ]
     },
     "execution_count": 63,
     "metadata": {},
     "output_type": "execute_result"
    }
   ],
   "source": [
    "df.growthAbsoluteMonth.max()"
   ]
  },
  {
   "cell_type": "code",
   "execution_count": 64,
   "metadata": {},
   "outputs": [
    {
     "data": {
      "text/html": [
       "<div>\n",
       "<style scoped>\n",
       "    .dataframe tbody tr th:only-of-type {\n",
       "        vertical-align: middle;\n",
       "    }\n",
       "\n",
       "    .dataframe tbody tr th {\n",
       "        vertical-align: top;\n",
       "    }\n",
       "\n",
       "    .dataframe thead th {\n",
       "        text-align: right;\n",
       "    }\n",
       "</style>\n",
       "<table border=\"1\" class=\"dataframe\">\n",
       "  <thead>\n",
       "    <tr style=\"text-align: right;\">\n",
       "      <th></th>\n",
       "      <th>description</th>\n",
       "      <th>subredditName</th>\n",
       "      <th>subscribers</th>\n",
       "      <th>createdDate</th>\n",
       "      <th>ranking</th>\n",
       "      <th>growthDay</th>\n",
       "      <th>growthWeek</th>\n",
       "      <th>growthMonth</th>\n",
       "      <th>growthAbsoluteDay</th>\n",
       "      <th>growthAbsoluteWeek</th>\n",
       "      <th>growthAbsoluteMonth</th>\n",
       "      <th>subreddit_link</th>\n",
       "      <th>prompt</th>\n",
       "      <th>embs</th>\n",
       "      <th>prompt_processed</th>\n",
       "      <th>llama3.2_3B_embs</th>\n",
       "    </tr>\n",
       "  </thead>\n",
       "  <tbody>\n",
       "    <tr>\n",
       "      <th>9527</th>\n",
       "      <td>NaN</td>\n",
       "      <td>itsalwaysstarlink</td>\n",
       "      <td>355</td>\n",
       "      <td>12th September, 2022</td>\n",
       "      <td>141389</td>\n",
       "      <td>-0.281%</td>\n",
       "      <td>-0.56%</td>\n",
       "      <td>+ 39.764%</td>\n",
       "      <td>-1 Subscribers</td>\n",
       "      <td>-2 Subscribers</td>\n",
       "      <td>+ 101 Subscribers</td>\n",
       "      <td>https://reddit.com/r/itsalwaysstarlink</td>\n",
       "      <td>['&lt;|start|&gt;Information about subreddit:\\n     ...</td>\n",
       "      <td>[-0.008716961, -0.013748589, -0.049114753, -0....</td>\n",
       "      <td>&lt;|start|&gt;Information about subreddit: &lt;|short ...</td>\n",
       "      <td>[-2.171875, -2.5, -3.21875, -1.1640625, 0.6679...</td>\n",
       "    </tr>\n",
       "    <tr>\n",
       "      <th>379</th>\n",
       "      <td>NaN</td>\n",
       "      <td>wordgumming</td>\n",
       "      <td>3</td>\n",
       "      <td>18th October, 2023</td>\n",
       "      <td>527740</td>\n",
       "      <td>-</td>\n",
       "      <td>-</td>\n",
       "      <td>+ 200.0%</td>\n",
       "      <td>-</td>\n",
       "      <td>-</td>\n",
       "      <td>+ 2 Subscribers</td>\n",
       "      <td>https://reddit.com/r/wordgumming</td>\n",
       "      <td>['&lt;|start|&gt;Information about subreddit:\\n     ...</td>\n",
       "      <td>[-0.0045809923, -0.010360115, -0.030783132, -0...</td>\n",
       "      <td>&lt;|start|&gt;Information about subreddit: &lt;|short ...</td>\n",
       "      <td>[-1.703125, -2.828125, -1.8671875, -1.4375, 1....</td>\n",
       "    </tr>\n",
       "    <tr>\n",
       "      <th>9591</th>\n",
       "      <td>NaN</td>\n",
       "      <td>footpic_sell</td>\n",
       "      <td>218</td>\n",
       "      <td>09th November, 2022</td>\n",
       "      <td>176138</td>\n",
       "      <td>-</td>\n",
       "      <td>+ 3.318%</td>\n",
       "      <td>+ 37.975%</td>\n",
       "      <td>-</td>\n",
       "      <td>+ 7 Subscribers</td>\n",
       "      <td>+ 60 Subscribers</td>\n",
       "      <td>https://reddit.com/r/footpic_sell</td>\n",
       "      <td>['&lt;|start|&gt;Information about subreddit:\\n     ...</td>\n",
       "      <td>[-0.006479753, -0.018882647, -0.03167888, -0.0...</td>\n",
       "      <td>&lt;|start|&gt;Information about subreddit: &lt;|short ...</td>\n",
       "      <td>[-1.765625, -2.265625, -2.015625, -0.90234375,...</td>\n",
       "    </tr>\n",
       "    <tr>\n",
       "      <th>8038</th>\n",
       "      <td>NaN</td>\n",
       "      <td>handwatch</td>\n",
       "      <td>1225</td>\n",
       "      <td>25th April, 2023</td>\n",
       "      <td>80886</td>\n",
       "      <td>+ 0.575%</td>\n",
       "      <td>+ 2.596%</td>\n",
       "      <td>+ 16.556%</td>\n",
       "      <td>+ 7 Subscribers</td>\n",
       "      <td>+ 31 Subscribers</td>\n",
       "      <td>+ 174 Subscribers</td>\n",
       "      <td>https://reddit.com/r/handwatch</td>\n",
       "      <td>['&lt;|start|&gt;Information about subreddit:\\n     ...</td>\n",
       "      <td>[-0.0027920995, -0.0053750863, -0.034884762, -...</td>\n",
       "      <td>&lt;|start|&gt;Information about subreddit: &lt;|short ...</td>\n",
       "      <td>[-1.4609375, -1.5078125, -1.859375, -0.4394531...</td>\n",
       "    </tr>\n",
       "    <tr>\n",
       "      <th>9956</th>\n",
       "      <td>A subreddit to appreciate and talk about UHC G...</td>\n",
       "      <td>UHCGenerations</td>\n",
       "      <td>212</td>\n",
       "      <td>18th February, 2024</td>\n",
       "      <td>176457</td>\n",
       "      <td>-</td>\n",
       "      <td>+ 2.913%</td>\n",
       "      <td>+ 30.864%</td>\n",
       "      <td>-</td>\n",
       "      <td>+ 6 Subscribers</td>\n",
       "      <td>+ 50 Subscribers</td>\n",
       "      <td>https://reddit.com/r/UHCGenerations</td>\n",
       "      <td>['&lt;|start|&gt;Information about subreddit:\\n     ...</td>\n",
       "      <td>[-0.003608811, -0.010794612, -0.043041985, -0....</td>\n",
       "      <td>&lt;|start|&gt;Information about subreddit: &lt;|short ...</td>\n",
       "      <td>[-1.9453125, -1.453125, -2.875, -0.73828125, 2...</td>\n",
       "    </tr>\n",
       "  </tbody>\n",
       "</table>\n",
       "</div>"
      ],
      "text/plain": [
       "                                            description      subredditName  \\\n",
       "9527                                                NaN  itsalwaysstarlink   \n",
       "379                                                 NaN        wordgumming   \n",
       "9591                                                NaN       footpic_sell   \n",
       "8038                                                NaN          handwatch   \n",
       "9956  A subreddit to appreciate and talk about UHC G...     UHCGenerations   \n",
       "\n",
       "      subscribers           createdDate  ranking growthDay growthWeek  \\\n",
       "9527          355  12th September, 2022   141389   -0.281%     -0.56%   \n",
       "379             3    18th October, 2023   527740         -          -   \n",
       "9591          218   09th November, 2022   176138         -   + 3.318%   \n",
       "8038         1225      25th April, 2023    80886  + 0.575%   + 2.596%   \n",
       "9956          212   18th February, 2024   176457         -   + 2.913%   \n",
       "\n",
       "     growthMonth growthAbsoluteDay growthAbsoluteWeek growthAbsoluteMonth  \\\n",
       "9527   + 39.764%    -1 Subscribers     -2 Subscribers   + 101 Subscribers   \n",
       "379     + 200.0%                 -                  -     + 2 Subscribers   \n",
       "9591   + 37.975%                 -    + 7 Subscribers    + 60 Subscribers   \n",
       "8038   + 16.556%   + 7 Subscribers   + 31 Subscribers   + 174 Subscribers   \n",
       "9956   + 30.864%                 -    + 6 Subscribers    + 50 Subscribers   \n",
       "\n",
       "                              subreddit_link  \\\n",
       "9527  https://reddit.com/r/itsalwaysstarlink   \n",
       "379         https://reddit.com/r/wordgumming   \n",
       "9591       https://reddit.com/r/footpic_sell   \n",
       "8038          https://reddit.com/r/handwatch   \n",
       "9956     https://reddit.com/r/UHCGenerations   \n",
       "\n",
       "                                                 prompt  \\\n",
       "9527  ['<|start|>Information about subreddit:\\n     ...   \n",
       "379   ['<|start|>Information about subreddit:\\n     ...   \n",
       "9591  ['<|start|>Information about subreddit:\\n     ...   \n",
       "8038  ['<|start|>Information about subreddit:\\n     ...   \n",
       "9956  ['<|start|>Information about subreddit:\\n     ...   \n",
       "\n",
       "                                                   embs  \\\n",
       "9527  [-0.008716961, -0.013748589, -0.049114753, -0....   \n",
       "379   [-0.0045809923, -0.010360115, -0.030783132, -0...   \n",
       "9591  [-0.006479753, -0.018882647, -0.03167888, -0.0...   \n",
       "8038  [-0.0027920995, -0.0053750863, -0.034884762, -...   \n",
       "9956  [-0.003608811, -0.010794612, -0.043041985, -0....   \n",
       "\n",
       "                                       prompt_processed  \\\n",
       "9527  <|start|>Information about subreddit: <|short ...   \n",
       "379   <|start|>Information about subreddit: <|short ...   \n",
       "9591  <|start|>Information about subreddit: <|short ...   \n",
       "8038  <|start|>Information about subreddit: <|short ...   \n",
       "9956  <|start|>Information about subreddit: <|short ...   \n",
       "\n",
       "                                       llama3.2_3B_embs  \n",
       "9527  [-2.171875, -2.5, -3.21875, -1.1640625, 0.6679...  \n",
       "379   [-1.703125, -2.828125, -1.8671875, -1.4375, 1....  \n",
       "9591  [-1.765625, -2.265625, -2.015625, -0.90234375,...  \n",
       "8038  [-1.4609375, -1.5078125, -1.859375, -0.4394531...  \n",
       "9956  [-1.9453125, -1.453125, -2.875, -0.73828125, 2...  "
      ]
     },
     "execution_count": 64,
     "metadata": {},
     "output_type": "execute_result"
    }
   ],
   "source": [
    "df.loc[top_k_indices] "
   ]
  },
  {
   "cell_type": "code",
   "execution_count": 65,
   "metadata": {},
   "outputs": [],
   "source": [
    "import torch.nn.functional as F\n",
    "import torch"
   ]
  },
  {
   "cell_type": "code",
   "execution_count": 66,
   "metadata": {},
   "outputs": [
    {
     "name": "stdout",
     "output_type": "stream",
     "text": [
      "Most similar vectors: tensor([9527,  379, 9591, 8038, 9587])\n"
     ]
    }
   ],
   "source": [
    "# Compute cosine similarity\n",
    "similarities_torch = F.cosine_similarity(torch.tensor(my_query_embs), torch.tensor(db_embs))\n",
    "\n",
    "# Get top-k most similar vectors\n",
    "top_k = 5\n",
    "top_k_indices = similarities_torch.topk(top_k).indices\n",
    "print(\"Most similar vectors:\", top_k_indices)"
   ]
  },
  {
   "cell_type": "code",
   "execution_count": 67,
   "metadata": {},
   "outputs": [
    {
     "data": {
      "text/html": [
       "<div>\n",
       "<style scoped>\n",
       "    .dataframe tbody tr th:only-of-type {\n",
       "        vertical-align: middle;\n",
       "    }\n",
       "\n",
       "    .dataframe tbody tr th {\n",
       "        vertical-align: top;\n",
       "    }\n",
       "\n",
       "    .dataframe thead th {\n",
       "        text-align: right;\n",
       "    }\n",
       "</style>\n",
       "<table border=\"1\" class=\"dataframe\">\n",
       "  <thead>\n",
       "    <tr style=\"text-align: right;\">\n",
       "      <th></th>\n",
       "      <th>description</th>\n",
       "      <th>subredditName</th>\n",
       "      <th>subscribers</th>\n",
       "      <th>createdDate</th>\n",
       "      <th>ranking</th>\n",
       "      <th>growthDay</th>\n",
       "      <th>growthWeek</th>\n",
       "      <th>growthMonth</th>\n",
       "      <th>growthAbsoluteDay</th>\n",
       "      <th>growthAbsoluteWeek</th>\n",
       "      <th>growthAbsoluteMonth</th>\n",
       "      <th>subreddit_link</th>\n",
       "      <th>prompt</th>\n",
       "      <th>embs</th>\n",
       "      <th>prompt_processed</th>\n",
       "      <th>llama3.2_3B_embs</th>\n",
       "    </tr>\n",
       "  </thead>\n",
       "  <tbody>\n",
       "    <tr>\n",
       "      <th>9527</th>\n",
       "      <td>NaN</td>\n",
       "      <td>itsalwaysstarlink</td>\n",
       "      <td>355</td>\n",
       "      <td>12th September, 2022</td>\n",
       "      <td>141389</td>\n",
       "      <td>-0.281%</td>\n",
       "      <td>-0.56%</td>\n",
       "      <td>+ 39.764%</td>\n",
       "      <td>-1 Subscribers</td>\n",
       "      <td>-2 Subscribers</td>\n",
       "      <td>+ 101 Subscribers</td>\n",
       "      <td>https://reddit.com/r/itsalwaysstarlink</td>\n",
       "      <td>['&lt;|start|&gt;Information about subreddit:\\n     ...</td>\n",
       "      <td>[-0.008716961, -0.013748589, -0.049114753, -0....</td>\n",
       "      <td>&lt;|start|&gt;Information about subreddit: &lt;|short ...</td>\n",
       "      <td>[-2.171875, -2.5, -3.21875, -1.1640625, 0.6679...</td>\n",
       "    </tr>\n",
       "    <tr>\n",
       "      <th>379</th>\n",
       "      <td>NaN</td>\n",
       "      <td>wordgumming</td>\n",
       "      <td>3</td>\n",
       "      <td>18th October, 2023</td>\n",
       "      <td>527740</td>\n",
       "      <td>-</td>\n",
       "      <td>-</td>\n",
       "      <td>+ 200.0%</td>\n",
       "      <td>-</td>\n",
       "      <td>-</td>\n",
       "      <td>+ 2 Subscribers</td>\n",
       "      <td>https://reddit.com/r/wordgumming</td>\n",
       "      <td>['&lt;|start|&gt;Information about subreddit:\\n     ...</td>\n",
       "      <td>[-0.0045809923, -0.010360115, -0.030783132, -0...</td>\n",
       "      <td>&lt;|start|&gt;Information about subreddit: &lt;|short ...</td>\n",
       "      <td>[-1.703125, -2.828125, -1.8671875, -1.4375, 1....</td>\n",
       "    </tr>\n",
       "    <tr>\n",
       "      <th>9591</th>\n",
       "      <td>NaN</td>\n",
       "      <td>footpic_sell</td>\n",
       "      <td>218</td>\n",
       "      <td>09th November, 2022</td>\n",
       "      <td>176138</td>\n",
       "      <td>-</td>\n",
       "      <td>+ 3.318%</td>\n",
       "      <td>+ 37.975%</td>\n",
       "      <td>-</td>\n",
       "      <td>+ 7 Subscribers</td>\n",
       "      <td>+ 60 Subscribers</td>\n",
       "      <td>https://reddit.com/r/footpic_sell</td>\n",
       "      <td>['&lt;|start|&gt;Information about subreddit:\\n     ...</td>\n",
       "      <td>[-0.006479753, -0.018882647, -0.03167888, -0.0...</td>\n",
       "      <td>&lt;|start|&gt;Information about subreddit: &lt;|short ...</td>\n",
       "      <td>[-1.765625, -2.265625, -2.015625, -0.90234375,...</td>\n",
       "    </tr>\n",
       "    <tr>\n",
       "      <th>8038</th>\n",
       "      <td>NaN</td>\n",
       "      <td>handwatch</td>\n",
       "      <td>1225</td>\n",
       "      <td>25th April, 2023</td>\n",
       "      <td>80886</td>\n",
       "      <td>+ 0.575%</td>\n",
       "      <td>+ 2.596%</td>\n",
       "      <td>+ 16.556%</td>\n",
       "      <td>+ 7 Subscribers</td>\n",
       "      <td>+ 31 Subscribers</td>\n",
       "      <td>+ 174 Subscribers</td>\n",
       "      <td>https://reddit.com/r/handwatch</td>\n",
       "      <td>['&lt;|start|&gt;Information about subreddit:\\n     ...</td>\n",
       "      <td>[-0.0027920995, -0.0053750863, -0.034884762, -...</td>\n",
       "      <td>&lt;|start|&gt;Information about subreddit: &lt;|short ...</td>\n",
       "      <td>[-1.4609375, -1.5078125, -1.859375, -0.4394531...</td>\n",
       "    </tr>\n",
       "    <tr>\n",
       "      <th>9587</th>\n",
       "      <td>NaN</td>\n",
       "      <td>SuboxoneTreatment</td>\n",
       "      <td>224</td>\n",
       "      <td>09th August, 2021</td>\n",
       "      <td>176457</td>\n",
       "      <td>+ 0.901%</td>\n",
       "      <td>+ 7.177%</td>\n",
       "      <td>+ 38.272%</td>\n",
       "      <td>+ 2 Subscribers</td>\n",
       "      <td>+ 15 Subscribers</td>\n",
       "      <td>+ 62 Subscribers</td>\n",
       "      <td>https://reddit.com/r/SuboxoneTreatment</td>\n",
       "      <td>['&lt;|start|&gt;Information about subreddit:\\n     ...</td>\n",
       "      <td>[-0.006067222, -0.010626762, -0.040782593, -0....</td>\n",
       "      <td>&lt;|start|&gt;Information about subreddit: &lt;|short ...</td>\n",
       "      <td>[-1.3671875, -2.28125, -2.484375, -1.15625, 1....</td>\n",
       "    </tr>\n",
       "  </tbody>\n",
       "</table>\n",
       "</div>"
      ],
      "text/plain": [
       "     description      subredditName  subscribers           createdDate  \\\n",
       "9527         NaN  itsalwaysstarlink          355  12th September, 2022   \n",
       "379          NaN        wordgumming            3    18th October, 2023   \n",
       "9591         NaN       footpic_sell          218   09th November, 2022   \n",
       "8038         NaN          handwatch         1225      25th April, 2023   \n",
       "9587         NaN  SuboxoneTreatment          224     09th August, 2021   \n",
       "\n",
       "      ranking growthDay growthWeek growthMonth growthAbsoluteDay  \\\n",
       "9527   141389   -0.281%     -0.56%   + 39.764%    -1 Subscribers   \n",
       "379    527740         -          -    + 200.0%                 -   \n",
       "9591   176138         -   + 3.318%   + 37.975%                 -   \n",
       "8038    80886  + 0.575%   + 2.596%   + 16.556%   + 7 Subscribers   \n",
       "9587   176457  + 0.901%   + 7.177%   + 38.272%   + 2 Subscribers   \n",
       "\n",
       "     growthAbsoluteWeek growthAbsoluteMonth  \\\n",
       "9527     -2 Subscribers   + 101 Subscribers   \n",
       "379                   -     + 2 Subscribers   \n",
       "9591    + 7 Subscribers    + 60 Subscribers   \n",
       "8038   + 31 Subscribers   + 174 Subscribers   \n",
       "9587   + 15 Subscribers    + 62 Subscribers   \n",
       "\n",
       "                              subreddit_link  \\\n",
       "9527  https://reddit.com/r/itsalwaysstarlink   \n",
       "379         https://reddit.com/r/wordgumming   \n",
       "9591       https://reddit.com/r/footpic_sell   \n",
       "8038          https://reddit.com/r/handwatch   \n",
       "9587  https://reddit.com/r/SuboxoneTreatment   \n",
       "\n",
       "                                                 prompt  \\\n",
       "9527  ['<|start|>Information about subreddit:\\n     ...   \n",
       "379   ['<|start|>Information about subreddit:\\n     ...   \n",
       "9591  ['<|start|>Information about subreddit:\\n     ...   \n",
       "8038  ['<|start|>Information about subreddit:\\n     ...   \n",
       "9587  ['<|start|>Information about subreddit:\\n     ...   \n",
       "\n",
       "                                                   embs  \\\n",
       "9527  [-0.008716961, -0.013748589, -0.049114753, -0....   \n",
       "379   [-0.0045809923, -0.010360115, -0.030783132, -0...   \n",
       "9591  [-0.006479753, -0.018882647, -0.03167888, -0.0...   \n",
       "8038  [-0.0027920995, -0.0053750863, -0.034884762, -...   \n",
       "9587  [-0.006067222, -0.010626762, -0.040782593, -0....   \n",
       "\n",
       "                                       prompt_processed  \\\n",
       "9527  <|start|>Information about subreddit: <|short ...   \n",
       "379   <|start|>Information about subreddit: <|short ...   \n",
       "9591  <|start|>Information about subreddit: <|short ...   \n",
       "8038  <|start|>Information about subreddit: <|short ...   \n",
       "9587  <|start|>Information about subreddit: <|short ...   \n",
       "\n",
       "                                       llama3.2_3B_embs  \n",
       "9527  [-2.171875, -2.5, -3.21875, -1.1640625, 0.6679...  \n",
       "379   [-1.703125, -2.828125, -1.8671875, -1.4375, 1....  \n",
       "9591  [-1.765625, -2.265625, -2.015625, -0.90234375,...  \n",
       "8038  [-1.4609375, -1.5078125, -1.859375, -0.4394531...  \n",
       "9587  [-1.3671875, -2.28125, -2.484375, -1.15625, 1....  "
      ]
     },
     "execution_count": 67,
     "metadata": {},
     "output_type": "execute_result"
    }
   ],
   "source": [
    "df.loc[top_k_indices] "
   ]
  },
  {
   "cell_type": "code",
   "execution_count": null,
   "metadata": {},
   "outputs": [],
   "source": []
  }
 ],
 "metadata": {
  "kernelspec": {
   "display_name": "crawl4ai",
   "language": "python",
   "name": "python3"
  },
  "language_info": {
   "codemirror_mode": {
    "name": "ipython",
    "version": 3
   },
   "file_extension": ".py",
   "mimetype": "text/x-python",
   "name": "python",
   "nbconvert_exporter": "python",
   "pygments_lexer": "ipython3",
   "version": "3.12.4"
  }
 },
 "nbformat": 4,
 "nbformat_minor": 2
}
