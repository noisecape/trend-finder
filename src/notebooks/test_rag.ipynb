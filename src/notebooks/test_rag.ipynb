{
 "cells": [
  {
   "cell_type": "code",
   "execution_count": 1,
   "metadata": {},
   "outputs": [],
   "source": [
    "import pandas as pd\n",
    "import sys\n",
    "import os\n",
    "sys.path.append(r'C:\\Users\\tommy\\Developer\\trend-finder\\src')\n",
    "from utilities.dataframe import merge_dataframes\n",
    "from langchain_ollama.embeddings import OllamaEmbeddings\n",
    "import numpy as np\n",
    "import ast"
   ]
  },
  {
   "cell_type": "code",
   "execution_count": 2,
   "metadata": {},
   "outputs": [],
   "source": [
    "dfs = os.listdir('../data')"
   ]
  },
  {
   "cell_type": "code",
   "execution_count": 3,
   "metadata": {},
   "outputs": [],
   "source": [
    "dfs = [pd.read_csv(os.path.join('../data', f\"{df}\")) for df in dfs if 'embeds' in df]"
   ]
  },
  {
   "cell_type": "code",
   "execution_count": 4,
   "metadata": {},
   "outputs": [],
   "source": [
    "df_all = merge_dataframes(dfs)"
   ]
  },
  {
   "cell_type": "code",
   "execution_count": 35,
   "metadata": {},
   "outputs": [],
   "source": [
    "llama_3_2_embeddings = OllamaEmbeddings(model='llama3.2:3b')"
   ]
  },
  {
   "cell_type": "code",
   "execution_count": 36,
   "metadata": {},
   "outputs": [],
   "source": [
    "my_query = \"What are the most growing communities on Reddit related to programming languages\""
   ]
  },
  {
   "cell_type": "code",
   "execution_count": 37,
   "metadata": {},
   "outputs": [],
   "source": [
    "query_vector = llama_3_2_embeddings.embed_query(my_query)"
   ]
  },
  {
   "cell_type": "code",
   "execution_count": 38,
   "metadata": {},
   "outputs": [],
   "source": [
    "query_vector = np.array(query_vector).reshape(1, -1)"
   ]
  },
  {
   "cell_type": "code",
   "execution_count": 39,
   "metadata": {},
   "outputs": [],
   "source": [
    "db_vectors = df_all['embs'].apply(lambda x: ast.literal_eval(x))\n",
    "\n",
    "# Convert lists to NumPy array\n",
    "db_embs = np.array(db_vectors.tolist())"
   ]
  },
  {
   "cell_type": "code",
   "execution_count": 40,
   "metadata": {},
   "outputs": [],
   "source": [
    "db_embs = np.array(db_vectors.tolist())"
   ]
  },
  {
   "cell_type": "code",
   "execution_count": 41,
   "metadata": {},
   "outputs": [
    {
     "data": {
      "text/plain": [
       "((12703, 3072), (1, 3072))"
      ]
     },
     "execution_count": 41,
     "metadata": {},
     "output_type": "execute_result"
    }
   ],
   "source": [
    "db_embs.shape, query_vector.shape"
   ]
  },
  {
   "cell_type": "code",
   "execution_count": 49,
   "metadata": {},
   "outputs": [],
   "source": [
    "# Compute cosine similarity\n",
    "cos_sim = np.dot(query_vector, db_embs.T) / (np.linalg.norm(query_vector, axis=1) * np.linalg.norm(db_embs))"
   ]
  },
  {
   "cell_type": "code",
   "execution_count": 58,
   "metadata": {},
   "outputs": [
    {
     "name": "stdout",
     "output_type": "stream",
     "text": [
      "Most similar vectors: [ 2355  2130  4425  3004  4279 12686  3543  5529  2133  6242]\n"
     ]
    }
   ],
   "source": [
    "# Get top-k most similar vectors\n",
    "top_k = 10\n",
    "top_k_indices = np.argsort(-cos_sim.flatten())[:top_k]\n",
    "print(\"Most similar vectors:\", top_k_indices)"
   ]
  },
  {
   "cell_type": "code",
   "execution_count": 59,
   "metadata": {},
   "outputs": [
    {
     "data": {
      "text/html": [
       "<div>\n",
       "<style scoped>\n",
       "    .dataframe tbody tr th:only-of-type {\n",
       "        vertical-align: middle;\n",
       "    }\n",
       "\n",
       "    .dataframe tbody tr th {\n",
       "        vertical-align: top;\n",
       "    }\n",
       "\n",
       "    .dataframe thead th {\n",
       "        text-align: right;\n",
       "    }\n",
       "</style>\n",
       "<table border=\"1\" class=\"dataframe\">\n",
       "  <thead>\n",
       "    <tr style=\"text-align: right;\">\n",
       "      <th></th>\n",
       "      <th>description</th>\n",
       "      <th>subredditName</th>\n",
       "      <th>subscribers</th>\n",
       "      <th>createdDate</th>\n",
       "      <th>ranking</th>\n",
       "      <th>growthDay</th>\n",
       "      <th>growthWeek</th>\n",
       "      <th>growthMonth</th>\n",
       "      <th>growthAbsoluteDay</th>\n",
       "      <th>growthAbsoluteWeek</th>\n",
       "      <th>growthAbsoluteMonth</th>\n",
       "      <th>subreddit_link</th>\n",
       "      <th>prompt</th>\n",
       "      <th>embs</th>\n",
       "    </tr>\n",
       "  </thead>\n",
       "  <tbody>\n",
       "    <tr>\n",
       "      <th>2355</th>\n",
       "      <td>The official Python community for Reddit! Stay...</td>\n",
       "      <td>Python</td>\n",
       "      <td>1267005</td>\n",
       "      <td>25th January, 2008</td>\n",
       "      <td>780</td>\n",
       "      <td>+ 0.031%</td>\n",
       "      <td>+ 0.197%</td>\n",
       "      <td>+ 0.797%</td>\n",
       "      <td>+ 392 Subscribers</td>\n",
       "      <td>+ 2489 Subscribers</td>\n",
       "      <td>+ 10016 Subscribers</td>\n",
       "      <td>https://reddit.com/r/Python</td>\n",
       "      <td>['&lt;|start|&gt;Information about subreddit:\\n     ...</td>\n",
       "      <td>[-0.007957079, -0.007742038, -0.03130074, -0.0...</td>\n",
       "    </tr>\n",
       "    <tr>\n",
       "      <th>2130</th>\n",
       "      <td>A community dedicated to all things web develo...</td>\n",
       "      <td>webdev</td>\n",
       "      <td>2516043</td>\n",
       "      <td>25th January, 2009</td>\n",
       "      <td>371</td>\n",
       "      <td>+ 0.091%</td>\n",
       "      <td>+ 0.664%</td>\n",
       "      <td>+ 2.923%</td>\n",
       "      <td>+ 2276 Subscribers</td>\n",
       "      <td>+ 16596 Subscribers</td>\n",
       "      <td>+ 71452 Subscribers</td>\n",
       "      <td>https://reddit.com/r/webdev</td>\n",
       "      <td>['&lt;|start|&gt;Information about subreddit:\\n     ...</td>\n",
       "      <td>[-0.014921741, -0.0066986806, -0.04354306, -0....</td>\n",
       "    </tr>\n",
       "    <tr>\n",
       "      <th>4425</th>\n",
       "      <td>TypeScript is a language for application-scale...</td>\n",
       "      <td>typescript</td>\n",
       "      <td>134464</td>\n",
       "      <td>01th October, 2012</td>\n",
       "      <td>5333</td>\n",
       "      <td>+ 0.06%</td>\n",
       "      <td>+ 0.387%</td>\n",
       "      <td>+ 1.659%</td>\n",
       "      <td>+ 80 Subscribers</td>\n",
       "      <td>+ 519 Subscribers</td>\n",
       "      <td>+ 2195 Subscribers</td>\n",
       "      <td>https://reddit.com/r/typescript</td>\n",
       "      <td>['&lt;|start|&gt;Information about subreddit:\\n     ...</td>\n",
       "      <td>[-0.006172163, 0.0001789158, -0.043815825, -0....</td>\n",
       "    </tr>\n",
       "    <tr>\n",
       "      <th>3004</th>\n",
       "      <td>🐁 This is a community for our little pocket pu...</td>\n",
       "      <td>RATS</td>\n",
       "      <td>614702</td>\n",
       "      <td>14th October, 2008</td>\n",
       "      <td>1628</td>\n",
       "      <td>+ 0.181%</td>\n",
       "      <td>+ 1.251%</td>\n",
       "      <td>+ 7.042%</td>\n",
       "      <td>+ 1108 Subscribers</td>\n",
       "      <td>+ 7596 Subscribers</td>\n",
       "      <td>+ 40438 Subscribers</td>\n",
       "      <td>https://reddit.com/r/RATS</td>\n",
       "      <td>['&lt;|start|&gt;Information about subreddit:\\n     ...</td>\n",
       "      <td>[-0.010849534, -0.005938535, -0.04441628, -0.0...</td>\n",
       "    </tr>\n",
       "    <tr>\n",
       "      <th>4279</th>\n",
       "      <td>“The Mandela Effect is when a large group of p...</td>\n",
       "      <td>MandelaEffect</td>\n",
       "      <td>353744</td>\n",
       "      <td>12th December, 2013</td>\n",
       "      <td>2521</td>\n",
       "      <td>+ 0.057%</td>\n",
       "      <td>+ 0.328%</td>\n",
       "      <td>+ 1.825%</td>\n",
       "      <td>+ 202 Subscribers</td>\n",
       "      <td>+ 1155 Subscribers</td>\n",
       "      <td>+ 6339 Subscribers</td>\n",
       "      <td>https://reddit.com/r/MandelaEffect</td>\n",
       "      <td>[\"&lt;|start|&gt;Information about subreddit:\\n     ...</td>\n",
       "      <td>[-0.011775391, -0.00640865, -0.04915861, -0.02...</td>\n",
       "    </tr>\n",
       "    <tr>\n",
       "      <th>12686</th>\n",
       "      <td>Laravel is a free and open-source PHP web fram...</td>\n",
       "      <td>laravel</td>\n",
       "      <td>88622</td>\n",
       "      <td>14th June, 2012</td>\n",
       "      <td>7129</td>\n",
       "      <td>+ 0.051%</td>\n",
       "      <td>+ 0.369%</td>\n",
       "      <td>+ 1.112%</td>\n",
       "      <td>+ 45 Subscribers</td>\n",
       "      <td>+ 326 Subscribers</td>\n",
       "      <td>+ 975 Subscribers</td>\n",
       "      <td>https://reddit.com/r/laravel</td>\n",
       "      <td>['&lt;|start|&gt;Information about subreddit:\\n     ...</td>\n",
       "      <td>[-0.0061963582, -0.008397462, -0.043881778, -0...</td>\n",
       "    </tr>\n",
       "    <tr>\n",
       "      <th>3543</th>\n",
       "      <td>¡Guadalajara, Guadalajara! 🎵 Hueles a tierra m...</td>\n",
       "      <td>Guadalajara</td>\n",
       "      <td>263723</td>\n",
       "      <td>30th November, 2008</td>\n",
       "      <td>3176</td>\n",
       "      <td>+ 0.106%</td>\n",
       "      <td>+ 0.897%</td>\n",
       "      <td>+ 3.437%</td>\n",
       "      <td>+ 280 Subscribers</td>\n",
       "      <td>+ 2344 Subscribers</td>\n",
       "      <td>+ 8763 Subscribers</td>\n",
       "      <td>https://reddit.com/r/Guadalajara</td>\n",
       "      <td>['&lt;|start|&gt;Information about subreddit:\\n     ...</td>\n",
       "      <td>[-0.011083975, -0.018955566, -0.046559576, -0....</td>\n",
       "    </tr>\n",
       "    <tr>\n",
       "      <th>5529</th>\n",
       "      <td>LangChain is an open-source framework and deve...</td>\n",
       "      <td>LangChain</td>\n",
       "      <td>27412</td>\n",
       "      <td>26th January, 2023</td>\n",
       "      <td>15707</td>\n",
       "      <td>+ 0.219%</td>\n",
       "      <td>+ 1.843%</td>\n",
       "      <td>+ 8.588%</td>\n",
       "      <td>+ 60 Subscribers</td>\n",
       "      <td>+ 496 Subscribers</td>\n",
       "      <td>+ 2168 Subscribers</td>\n",
       "      <td>https://reddit.com/r/LangChain</td>\n",
       "      <td>['&lt;|start|&gt;Information about subreddit:\\n     ...</td>\n",
       "      <td>[-0.01757728, -0.009813331, -0.044323206, -0.0...</td>\n",
       "    </tr>\n",
       "    <tr>\n",
       "      <th>2133</th>\n",
       "      <td>The community for Old School RuneScape discuss...</td>\n",
       "      <td>2007scape</td>\n",
       "      <td>1020297</td>\n",
       "      <td>13th February, 2013</td>\n",
       "      <td>984</td>\n",
       "      <td>+ 0.099%</td>\n",
       "      <td>+ 0.647%</td>\n",
       "      <td>+ 2.915%</td>\n",
       "      <td>+ 1005 Subscribers</td>\n",
       "      <td>+ 6559 Subscribers</td>\n",
       "      <td>+ 28896 Subscribers</td>\n",
       "      <td>https://reddit.com/r/2007scape</td>\n",
       "      <td>['&lt;|start|&gt;Information about subreddit:\\n     ...</td>\n",
       "      <td>[-0.012173029, -0.0065405928, -0.038317416, -0...</td>\n",
       "    </tr>\n",
       "    <tr>\n",
       "      <th>6242</th>\n",
       "      <td>NaN</td>\n",
       "      <td>language</td>\n",
       "      <td>33356</td>\n",
       "      <td>23th August, 2008</td>\n",
       "      <td>13860</td>\n",
       "      <td>+ 0.159%</td>\n",
       "      <td>+ 1.593%</td>\n",
       "      <td>+ 5.711%</td>\n",
       "      <td>+ 53 Subscribers</td>\n",
       "      <td>+ 523 Subscribers</td>\n",
       "      <td>+ 1802 Subscribers</td>\n",
       "      <td>https://reddit.com/r/language</td>\n",
       "      <td>['&lt;|start|&gt;Information about subreddit:\\n     ...</td>\n",
       "      <td>[-0.004669516, -0.0135824885, -0.03257706, -0....</td>\n",
       "    </tr>\n",
       "  </tbody>\n",
       "</table>\n",
       "</div>"
      ],
      "text/plain": [
       "                                             description  subredditName  \\\n",
       "2355   The official Python community for Reddit! Stay...         Python   \n",
       "2130   A community dedicated to all things web develo...         webdev   \n",
       "4425   TypeScript is a language for application-scale...     typescript   \n",
       "3004   🐁 This is a community for our little pocket pu...           RATS   \n",
       "4279   “The Mandela Effect is when a large group of p...  MandelaEffect   \n",
       "12686  Laravel is a free and open-source PHP web fram...        laravel   \n",
       "3543   ¡Guadalajara, Guadalajara! 🎵 Hueles a tierra m...    Guadalajara   \n",
       "5529   LangChain is an open-source framework and deve...      LangChain   \n",
       "2133   The community for Old School RuneScape discuss...      2007scape   \n",
       "6242                                                 NaN       language   \n",
       "\n",
       "       subscribers          createdDate  ranking growthDay growthWeek  \\\n",
       "2355       1267005   25th January, 2008      780  + 0.031%   + 0.197%   \n",
       "2130       2516043   25th January, 2009      371  + 0.091%   + 0.664%   \n",
       "4425        134464   01th October, 2012     5333   + 0.06%   + 0.387%   \n",
       "3004        614702   14th October, 2008     1628  + 0.181%   + 1.251%   \n",
       "4279        353744  12th December, 2013     2521  + 0.057%   + 0.328%   \n",
       "12686        88622      14th June, 2012     7129  + 0.051%   + 0.369%   \n",
       "3543        263723  30th November, 2008     3176  + 0.106%   + 0.897%   \n",
       "5529         27412   26th January, 2023    15707  + 0.219%   + 1.843%   \n",
       "2133       1020297  13th February, 2013      984  + 0.099%   + 0.647%   \n",
       "6242         33356    23th August, 2008    13860  + 0.159%   + 1.593%   \n",
       "\n",
       "      growthMonth   growthAbsoluteDay   growthAbsoluteWeek  \\\n",
       "2355     + 0.797%   + 392 Subscribers   + 2489 Subscribers   \n",
       "2130     + 2.923%  + 2276 Subscribers  + 16596 Subscribers   \n",
       "4425     + 1.659%    + 80 Subscribers    + 519 Subscribers   \n",
       "3004     + 7.042%  + 1108 Subscribers   + 7596 Subscribers   \n",
       "4279     + 1.825%   + 202 Subscribers   + 1155 Subscribers   \n",
       "12686    + 1.112%    + 45 Subscribers    + 326 Subscribers   \n",
       "3543     + 3.437%   + 280 Subscribers   + 2344 Subscribers   \n",
       "5529     + 8.588%    + 60 Subscribers    + 496 Subscribers   \n",
       "2133     + 2.915%  + 1005 Subscribers   + 6559 Subscribers   \n",
       "6242     + 5.711%    + 53 Subscribers    + 523 Subscribers   \n",
       "\n",
       "       growthAbsoluteMonth                      subreddit_link  \\\n",
       "2355   + 10016 Subscribers         https://reddit.com/r/Python   \n",
       "2130   + 71452 Subscribers         https://reddit.com/r/webdev   \n",
       "4425    + 2195 Subscribers     https://reddit.com/r/typescript   \n",
       "3004   + 40438 Subscribers           https://reddit.com/r/RATS   \n",
       "4279    + 6339 Subscribers  https://reddit.com/r/MandelaEffect   \n",
       "12686    + 975 Subscribers        https://reddit.com/r/laravel   \n",
       "3543    + 8763 Subscribers    https://reddit.com/r/Guadalajara   \n",
       "5529    + 2168 Subscribers      https://reddit.com/r/LangChain   \n",
       "2133   + 28896 Subscribers      https://reddit.com/r/2007scape   \n",
       "6242    + 1802 Subscribers       https://reddit.com/r/language   \n",
       "\n",
       "                                                  prompt  \\\n",
       "2355   ['<|start|>Information about subreddit:\\n     ...   \n",
       "2130   ['<|start|>Information about subreddit:\\n     ...   \n",
       "4425   ['<|start|>Information about subreddit:\\n     ...   \n",
       "3004   ['<|start|>Information about subreddit:\\n     ...   \n",
       "4279   [\"<|start|>Information about subreddit:\\n     ...   \n",
       "12686  ['<|start|>Information about subreddit:\\n     ...   \n",
       "3543   ['<|start|>Information about subreddit:\\n     ...   \n",
       "5529   ['<|start|>Information about subreddit:\\n     ...   \n",
       "2133   ['<|start|>Information about subreddit:\\n     ...   \n",
       "6242   ['<|start|>Information about subreddit:\\n     ...   \n",
       "\n",
       "                                                    embs  \n",
       "2355   [-0.007957079, -0.007742038, -0.03130074, -0.0...  \n",
       "2130   [-0.014921741, -0.0066986806, -0.04354306, -0....  \n",
       "4425   [-0.006172163, 0.0001789158, -0.043815825, -0....  \n",
       "3004   [-0.010849534, -0.005938535, -0.04441628, -0.0...  \n",
       "4279   [-0.011775391, -0.00640865, -0.04915861, -0.02...  \n",
       "12686  [-0.0061963582, -0.008397462, -0.043881778, -0...  \n",
       "3543   [-0.011083975, -0.018955566, -0.046559576, -0....  \n",
       "5529   [-0.01757728, -0.009813331, -0.044323206, -0.0...  \n",
       "2133   [-0.012173029, -0.0065405928, -0.038317416, -0...  \n",
       "6242   [-0.004669516, -0.0135824885, -0.03257706, -0....  "
      ]
     },
     "execution_count": 59,
     "metadata": {},
     "output_type": "execute_result"
    }
   ],
   "source": [
    "df_all.loc[top_k_indices] "
   ]
  },
  {
   "cell_type": "code",
   "execution_count": 62,
   "metadata": {},
   "outputs": [],
   "source": [
    "import torch.nn.functional as F\n",
    "import torch"
   ]
  },
  {
   "cell_type": "code",
   "execution_count": 63,
   "metadata": {},
   "outputs": [
    {
     "name": "stdout",
     "output_type": "stream",
     "text": [
      "Most similar vectors: tensor([2355, 2130, 4425, 3004, 4279])\n"
     ]
    }
   ],
   "source": [
    "# Compute cosine similarity\n",
    "similarities_torch = F.cosine_similarity(torch.tensor(query_vector), torch.tensor(db_embs))\n",
    "\n",
    "# Get top-k most similar vectors\n",
    "top_k = 5\n",
    "top_k_indices = similarities_torch.topk(top_k).indices\n",
    "print(\"Most similar vectors:\", top_k_indices)"
   ]
  }
 ],
 "metadata": {
  "kernelspec": {
   "display_name": "crawl4ai",
   "language": "python",
   "name": "python3"
  },
  "language_info": {
   "codemirror_mode": {
    "name": "ipython",
    "version": 3
   },
   "file_extension": ".py",
   "mimetype": "text/x-python",
   "name": "python",
   "nbconvert_exporter": "python",
   "pygments_lexer": "ipython3",
   "version": "3.12.4"
  }
 },
 "nbformat": 4,
 "nbformat_minor": 2
}
