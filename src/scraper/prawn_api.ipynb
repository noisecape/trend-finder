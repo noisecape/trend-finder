{
 "cells": [
  {
   "cell_type": "code",
   "execution_count": 28,
   "metadata": {},
   "outputs": [],
   "source": [
    "import praw\n",
    "import pandas as pd\n",
    "import json"
   ]
  },
  {
   "cell_type": "code",
   "execution_count": 37,
   "metadata": {},
   "outputs": [],
   "source": [
    "config = json.load(open('../config.json', 'r'))"
   ]
  },
  {
   "cell_type": "code",
   "execution_count": 40,
   "metadata": {},
   "outputs": [],
   "source": [
    "reddit = praw.Reddit(\n",
    "    client_id=config['client_id'], \n",
    "    client_secret=config['client_secret'], \n",
    "    password=config['password'], \n",
    "    user_agent='trend-finder', \n",
    "    username=config['username'])"
   ]
  },
  {
   "cell_type": "code",
   "execution_count": null,
   "metadata": {},
   "outputs": [],
   "source": [
    "print(reddit.user.me())"
   ]
  },
  {
   "cell_type": "code",
   "execution_count": 10,
   "metadata": {},
   "outputs": [],
   "source": [
    "subreddit = reddit.subreddit('nextfuckinglevel')"
   ]
  },
  {
   "cell_type": "code",
   "execution_count": 21,
   "metadata": {},
   "outputs": [],
   "source": [
    "data = []"
   ]
  },
  {
   "cell_type": "code",
   "execution_count": null,
   "metadata": {},
   "outputs": [],
   "source": [
    "for post in subreddit.hot(limit= 10): \n",
    "    data.append({\n",
    "        'Type': 'Post',\n",
    "        'Post_id': post.id,\n",
    "        'Title': post.title,\n",
    "        'Author': post.author.name if post.author else 'Unknown',\n",
    "        'Timestamp': post.created_utc,\n",
    "        'Text': post.selftext,\n",
    "        'Score': post.score,\n",
    "        'Total_comments': post.num_comments,\n",
    "        'Post_URL': post.url\n",
    "    })\n",
    "\n",
    "# Check if the post has comments\n",
    "    if post.num_comments > 0:\n",
    "        # Scraping comments for each post\n",
    "        post.comments.replace_more(limit= 5)\n",
    "        for comment in post.comments.list():\n",
    "            data.append({\n",
    "                'Type': 'Comment',\n",
    "                'Post_id': post.id,\n",
    "                'Title': post.title,\n",
    "                'Author': comment.author.name if comment.author else 'Unknown',\n",
    "                'Timestamp': pd.to_datetime(comment.created_utc, unit='s'),\n",
    "                'Text': comment.body,\n",
    "                'Score': comment.score,\n",
    "                'Total_comments': 0, #Comments don't have this attribute\n",
    "                'Post_URL': None  #Comments don't have this attribute\n",
    "            })\n",
    "\n",
    "# Create pandas DataFrame for posts and comments\n",
    "subreddit_df = pd.DataFrame(data)"
   ]
  },
  {
   "cell_type": "code",
   "execution_count": null,
   "metadata": {},
   "outputs": [],
   "source": []
  }
 ],
 "metadata": {
  "kernelspec": {
   "display_name": "crawl4ai",
   "language": "python",
   "name": "python3"
  },
  "language_info": {
   "codemirror_mode": {
    "name": "ipython",
    "version": 3
   },
   "file_extension": ".py",
   "mimetype": "text/x-python",
   "name": "python",
   "nbconvert_exporter": "python",
   "pygments_lexer": "ipython3",
   "version": "3.12.4"
  }
 },
 "nbformat": 4,
 "nbformat_minor": 2
}
